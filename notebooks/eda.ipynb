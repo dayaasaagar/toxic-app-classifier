{
 "cells": [
  {
   "cell_type": "markdown",
   "metadata": {},
   "source": [
    "# Exploratory data analysis (EDA)"
   ]
  },
  {
   "cell_type": "markdown",
   "metadata": {},
   "source": [
    "Exploration of data is the very first step in approaching any machine learnig problem with data in hand.\n",
    "<br>One of the purpose of EDA is to understand the mindset of the person who has created the dataset that will help us to clean the data and tackle the missing values in the senseble way.\n",
    "<br>Another purpose of doing EDA: Here we are using past events data to make predictions, so it is worth exploring these past events to understand the could be causes for the outputs associated with them, this understanding will help us to find the important features to feed into our model."
   ]
  },
  {
   "cell_type": "markdown",
   "metadata": {},
   "source": [
    "### Preparation"
   ]
  },
  {
   "cell_type": "markdown",
   "metadata": {},
   "source": [
    "For preparation lets import the required libraries and the data"
   ]
  },
  {
   "cell_type": "code",
   "execution_count": 1,
   "metadata": {
    "executionInfo": {
     "elapsed": 1160,
     "status": "ok",
     "timestamp": 1613478521189,
     "user": {
      "displayName": "navjot bains",
      "photoUrl": "",
      "userId": "15816307421451471669"
     },
     "user_tz": 300
    },
    "id": "UK4QR92Vy60A"
   },
   "outputs": [],
   "source": [
    "import numpy as np\n",
    "import pandas as pd\n",
    "import matplotlib.pyplot as plt\n",
    "import seaborn as sns\n",
    "import os"
   ]
  },
  {
   "cell_type": "code",
   "execution_count": 2,
   "metadata": {},
   "outputs": [],
   "source": [
    "dir_name = os.path.dirname(os.getcwd())"
   ]
  },
  {
   "cell_type": "code",
   "execution_count": 3,
   "metadata": {},
   "outputs": [],
   "source": [
    "train_path = os.path.join(dir_name,'data', 'raw', 'train.csv')"
   ]
  },
  {
   "cell_type": "code",
   "execution_count": 4,
   "metadata": {
    "executionInfo": {
     "elapsed": 1145,
     "status": "ok",
     "timestamp": 1613478522868,
     "user": {
      "displayName": "navjot bains",
      "photoUrl": "",
      "userId": "15816307421451471669"
     },
     "user_tz": 300
    },
    "id": "6It4z_4Cy60P"
   },
   "outputs": [],
   "source": [
    "df = pd.read_csv(train_path)"
   ]
  },
  {
   "cell_type": "code",
   "execution_count": 5,
   "metadata": {
    "colab": {
     "base_uri": "https://localhost:8080/",
     "height": 340
    },
    "executionInfo": {
     "elapsed": 382,
     "status": "ok",
     "timestamp": 1613478523863,
     "user": {
      "displayName": "navjot bains",
      "photoUrl": "",
      "userId": "15816307421451471669"
     },
     "user_tz": 300
    },
    "id": "ImZaWjTey60Q",
    "outputId": "bc70fd30-a895-4544-f073-8d43bcdb58a5"
   },
   "outputs": [
    {
     "name": "stdout",
     "output_type": "stream",
     "text": [
      "Number of rows in data = 159571\n",
      "Number of columns in data = 8\n",
      "\n",
      "\n",
      "Sample data:\n"
     ]
    },
    {
     "data": {
      "text/html": [
       "<div>\n",
       "<style scoped>\n",
       "    .dataframe tbody tr th:only-of-type {\n",
       "        vertical-align: middle;\n",
       "    }\n",
       "\n",
       "    .dataframe tbody tr th {\n",
       "        vertical-align: top;\n",
       "    }\n",
       "\n",
       "    .dataframe thead th {\n",
       "        text-align: right;\n",
       "    }\n",
       "</style>\n",
       "<table border=\"1\" class=\"dataframe\">\n",
       "  <thead>\n",
       "    <tr style=\"text-align: right;\">\n",
       "      <th></th>\n",
       "      <th>id</th>\n",
       "      <th>comment_text</th>\n",
       "      <th>toxic</th>\n",
       "      <th>severe_toxic</th>\n",
       "      <th>obscene</th>\n",
       "      <th>threat</th>\n",
       "      <th>insult</th>\n",
       "      <th>identity_hate</th>\n",
       "    </tr>\n",
       "  </thead>\n",
       "  <tbody>\n",
       "    <tr>\n",
       "      <th>0</th>\n",
       "      <td>0000997932d777bf</td>\n",
       "      <td>Explanation\\nWhy the edits made under my usern...</td>\n",
       "      <td>0</td>\n",
       "      <td>0</td>\n",
       "      <td>0</td>\n",
       "      <td>0</td>\n",
       "      <td>0</td>\n",
       "      <td>0</td>\n",
       "    </tr>\n",
       "    <tr>\n",
       "      <th>1</th>\n",
       "      <td>000103f0d9cfb60f</td>\n",
       "      <td>D'aww! He matches this background colour I'm s...</td>\n",
       "      <td>0</td>\n",
       "      <td>0</td>\n",
       "      <td>0</td>\n",
       "      <td>0</td>\n",
       "      <td>0</td>\n",
       "      <td>0</td>\n",
       "    </tr>\n",
       "    <tr>\n",
       "      <th>2</th>\n",
       "      <td>000113f07ec002fd</td>\n",
       "      <td>Hey man, I'm really not trying to edit war. It...</td>\n",
       "      <td>0</td>\n",
       "      <td>0</td>\n",
       "      <td>0</td>\n",
       "      <td>0</td>\n",
       "      <td>0</td>\n",
       "      <td>0</td>\n",
       "    </tr>\n",
       "    <tr>\n",
       "      <th>3</th>\n",
       "      <td>0001b41b1c6bb37e</td>\n",
       "      <td>\"\\nMore\\nI can't make any real suggestions on ...</td>\n",
       "      <td>0</td>\n",
       "      <td>0</td>\n",
       "      <td>0</td>\n",
       "      <td>0</td>\n",
       "      <td>0</td>\n",
       "      <td>0</td>\n",
       "    </tr>\n",
       "    <tr>\n",
       "      <th>4</th>\n",
       "      <td>0001d958c54c6e35</td>\n",
       "      <td>You, sir, are my hero. Any chance you remember...</td>\n",
       "      <td>0</td>\n",
       "      <td>0</td>\n",
       "      <td>0</td>\n",
       "      <td>0</td>\n",
       "      <td>0</td>\n",
       "      <td>0</td>\n",
       "    </tr>\n",
       "  </tbody>\n",
       "</table>\n",
       "</div>"
      ],
      "text/plain": [
       "                 id                                       comment_text  toxic  \\\n",
       "0  0000997932d777bf  Explanation\\nWhy the edits made under my usern...      0   \n",
       "1  000103f0d9cfb60f  D'aww! He matches this background colour I'm s...      0   \n",
       "2  000113f07ec002fd  Hey man, I'm really not trying to edit war. It...      0   \n",
       "3  0001b41b1c6bb37e  \"\\nMore\\nI can't make any real suggestions on ...      0   \n",
       "4  0001d958c54c6e35  You, sir, are my hero. Any chance you remember...      0   \n",
       "\n",
       "   severe_toxic  obscene  threat  insult  identity_hate  \n",
       "0             0        0       0       0              0  \n",
       "1             0        0       0       0              0  \n",
       "2             0        0       0       0              0  \n",
       "3             0        0       0       0              0  \n",
       "4             0        0       0       0              0  "
      ]
     },
     "execution_count": 5,
     "metadata": {},
     "output_type": "execute_result"
    }
   ],
   "source": [
    "print(\"Number of rows in data =\",df.shape[0])\n",
    "print(\"Number of columns in data =\",df.shape[1])\n",
    "print(\"\\n\")\n",
    "print(\"Sample data:\")\n",
    "df.head()"
   ]
  },
  {
   "cell_type": "code",
   "execution_count": 6,
   "metadata": {
    "colab": {
     "base_uri": "https://localhost:8080/"
    },
    "executionInfo": {
     "elapsed": 294,
     "status": "ok",
     "timestamp": 1613478527117,
     "user": {
      "displayName": "navjot bains",
      "photoUrl": "",
      "userId": "15816307421451471669"
     },
     "user_tz": 300
    },
    "id": "GCiW_cUcy60V",
    "outputId": "44a925a6-427d-49c5-c64e-0aba471cabb0"
   },
   "outputs": [
    {
     "data": {
      "text/plain": [
       "id               0\n",
       "comment_text     0\n",
       "toxic            0\n",
       "severe_toxic     0\n",
       "obscene          0\n",
       "threat           0\n",
       "insult           0\n",
       "identity_hate    0\n",
       "dtype: int64"
      ]
     },
     "execution_count": 6,
     "metadata": {},
     "output_type": "execute_result"
    }
   ],
   "source": [
    "## check for Null values\n",
    "df.isnull().sum()"
   ]
  },
  {
   "cell_type": "markdown",
   "metadata": {},
   "source": [
    "<br>No null values in the dataset"
   ]
  },
  {
   "cell_type": "markdown",
   "metadata": {},
   "source": [
    "<br>In below cell, decent comments are those which are clean, doesn't include any level of toxicity and not-decent comments are those which has \"toxic\", \"severe_toxic\", \"obscene\", \"threat\",\"insult\" and \"identity_hate\" comments"
   ]
  },
  {
   "cell_type": "code",
   "execution_count": 7,
   "metadata": {
    "colab": {
     "base_uri": "https://localhost:8080/"
    },
    "executionInfo": {
     "elapsed": 364,
     "status": "ok",
     "timestamp": 1613478525066,
     "user": {
      "displayName": "navjot bains",
      "photoUrl": "",
      "userId": "15816307421451471669"
     },
     "user_tz": 300
    },
    "id": "shHhy938y60T",
    "outputId": "c60b61fd-e501-4710-e400-87b60e73a74f"
   },
   "outputs": [
    {
     "name": "stdout",
     "output_type": "stream",
     "text": [
      "Number of decent comments : 143346\n",
      "Number of not-decent comments : 16225 \n",
      "\n",
      "Percentage of decent comments: 89.83211235124176 %\n",
      "Percentage of not-decent comments: 10.167887648758233 %\n"
     ]
    }
   ],
   "source": [
    "non_toxic = len(df[(df['toxic']==0) & (df['severe_toxic']==0) & (df['obscene']==0) & (df['threat']== 0) & (df['insult']==0) & (df['identity_hate']==0)])\n",
    "toxic = len(df)-non_toxic\n",
    "print(\"Number of decent comments : {}\".format(non_toxic))\n",
    "print(\"Number of not-decent comments : {} \\n\".format(toxic))\n",
    "print('Percentage of decent comments: {} %'.format(non_toxic / len(df)*100))\n",
    "print('Percentage of not-decent comments: {} %'.format(toxic / len(df)*100))"
   ]
  },
  {
   "cell_type": "markdown",
   "metadata": {},
   "source": [
    "<br> It is clear that data is highly imbalanced, we can see 143346 comments are decent or labeled under zero class, whereas only 16225 comments are not-decent or labeled as class 1. With this much skewness in dataset, the model will give default accuracy of 90% in  classifying a comment as a decent comment without learning anything.\n",
    "<br>That means the purpose of classifying not-decent comments will not be served with the presence of skewness in this dataset. There are ways to handle this problem such as under sampling or oversampling.\n",
    "<br>Another thing to notice here, due to this imbalanced ratio of the classes, accuracy makes it hard to evaluate the model performance, so we will explore alternative matrics that provide better guidance in evaluating and selecting model such as F1 score, AUC"
   ]
  },
  {
   "cell_type": "markdown",
   "metadata": {
    "id": "nq9qTBJhy60V"
   },
   "source": [
    "### Number of comments in each category"
   ]
  },
  {
   "cell_type": "markdown",
   "metadata": {},
   "source": [
    "Total comments are 159571, out of it only 16225 comments are not-decent. Furthermore, these not-decent comments are divided in six categories. These categories are : \"toxic\", \"severe_toxic\", \"obscene\", \"threat\",\"insult\" and \"identity_hate\".\n",
    "<br> <br> Lets calculate the number of comments belongs to each category"
   ]
  },
  {
   "cell_type": "code",
   "execution_count": 8,
   "metadata": {
    "colab": {
     "base_uri": "https://localhost:8080/",
     "height": 235
    },
    "executionInfo": {
     "elapsed": 475,
     "status": "ok",
     "timestamp": 1613478529346,
     "user": {
      "displayName": "navjot bains",
      "photoUrl": "",
      "userId": "15816307421451471669"
     },
     "user_tz": 300
    },
    "id": "EWCLl4YWy60W",
    "outputId": "268b3085-6753-4f7a-9c8f-b1bc9411c290"
   },
   "outputs": [
    {
     "data": {
      "text/html": [
       "<div>\n",
       "<style scoped>\n",
       "    .dataframe tbody tr th:only-of-type {\n",
       "        vertical-align: middle;\n",
       "    }\n",
       "\n",
       "    .dataframe tbody tr th {\n",
       "        vertical-align: top;\n",
       "    }\n",
       "\n",
       "    .dataframe thead th {\n",
       "        text-align: right;\n",
       "    }\n",
       "</style>\n",
       "<table border=\"1\" class=\"dataframe\">\n",
       "  <thead>\n",
       "    <tr style=\"text-align: right;\">\n",
       "      <th></th>\n",
       "      <th>category</th>\n",
       "      <th>number_of_comments</th>\n",
       "    </tr>\n",
       "  </thead>\n",
       "  <tbody>\n",
       "    <tr>\n",
       "      <th>0</th>\n",
       "      <td>toxic</td>\n",
       "      <td>15294</td>\n",
       "    </tr>\n",
       "    <tr>\n",
       "      <th>1</th>\n",
       "      <td>severe_toxic</td>\n",
       "      <td>1595</td>\n",
       "    </tr>\n",
       "    <tr>\n",
       "      <th>2</th>\n",
       "      <td>obscene</td>\n",
       "      <td>8449</td>\n",
       "    </tr>\n",
       "    <tr>\n",
       "      <th>3</th>\n",
       "      <td>threat</td>\n",
       "      <td>478</td>\n",
       "    </tr>\n",
       "    <tr>\n",
       "      <th>4</th>\n",
       "      <td>insult</td>\n",
       "      <td>7877</td>\n",
       "    </tr>\n",
       "    <tr>\n",
       "      <th>5</th>\n",
       "      <td>identity_hate</td>\n",
       "      <td>1405</td>\n",
       "    </tr>\n",
       "  </tbody>\n",
       "</table>\n",
       "</div>"
      ],
      "text/plain": [
       "        category  number_of_comments\n",
       "0          toxic               15294\n",
       "1   severe_toxic                1595\n",
       "2        obscene                8449\n",
       "3         threat                 478\n",
       "4         insult                7877\n",
       "5  identity_hate                1405"
      ]
     },
     "execution_count": 8,
     "metadata": {},
     "output_type": "execute_result"
    }
   ],
   "source": [
    "##df.iloc[:,2:].sum()\n",
    "df_targets = df.drop(['id', 'comment_text'], axis=1)\n",
    "counts = []\n",
    "categories = list(df_targets.columns.values)\n",
    "for i in categories:\n",
    "    counts.append((i, df_targets[i].sum()))\n",
    "df_stats = pd.DataFrame(counts, columns=['category', 'number_of_comments'])\n",
    "df_stats"
   ]
  },
  {
   "cell_type": "code",
   "execution_count": 9,
   "metadata": {
    "colab": {
     "base_uri": "https://localhost:8080/",
     "height": 357
    },
    "executionInfo": {
     "elapsed": 740,
     "status": "ok",
     "timestamp": 1613478530250,
     "user": {
      "displayName": "navjot bains",
      "photoUrl": "",
      "userId": "15816307421451471669"
     },
     "user_tz": 300
    },
    "id": "BL9sCUryy60X",
    "outputId": "df295c42-2b93-4078-f905-efaa0078aab7"
   },
   "outputs": [
    {
     "data": {
      "image/png": "[encoded data removed]",
      "text/plain": [
       "<Figure size 432x288 with 1 Axes>"
      ]
     },
     "metadata": {},
     "output_type": "display_data"
    },
    {
     "data": {
      "text/plain": [
       "<Figure size 432x288 with 0 Axes>"
      ]
     },
     "metadata": {},
     "output_type": "display_data"
    }
   ],
   "source": [
    "levels = list(df_targets.columns.values)\n",
    "sns.set(font_scale = 1)\n",
    "ax= sns.barplot(levels, df_targets.iloc[:,:].sum().values)\n",
    "plt.title(\"Number of comments in each toxic category\", fontsize=14)\n",
    "plt.ylabel('Number of comments', fontsize=12)\n",
    "plt.xlabel('Toxicity Type ', fontsize=12)\n",
    "\n",
    "rects = ax.patches\n",
    "labels = df_targets.iloc[:,:].sum().values\n",
    "for rect, label in zip(rects, labels):\n",
    "    height = rect.get_height()\n",
    "    ax.text(rect.get_x() + rect.get_width()/2, height + 5, label, ha='center', va='bottom')\n",
    "plt.show()\n",
    "plt.savefig(\"comment_count_each_category.png\")"
   ]
  },
  {
   "cell_type": "markdown",
   "metadata": {},
   "source": [
    "This bar graph shows the presence of skewness among these six categories, we have significantly more number of comments in toxic category as compared to \"severe_toxic\", \"identity_hate\" and \"threat\" category. This could lead model to have more cofidence in predicting toxic, obscene and insult class than predicting severe_toxic, threat and insult class"
   ]
  },
  {
   "cell_type": "markdown",
   "metadata": {
    "id": "S3woqaDey60Y"
   },
   "source": [
    "### Number of comments have multi-labels"
   ]
  },
  {
   "cell_type": "markdown",
   "metadata": {},
   "source": [
    "Note that here comments could have more than one labels assigned to them, so let's see count of comments that have multiple labels "
   ]
  },
  {
   "cell_type": "code",
   "execution_count": 10,
   "metadata": {
    "colab": {
     "base_uri": "https://localhost:8080/",
     "height": 325
    },
    "executionInfo": {
     "elapsed": 434,
     "status": "ok",
     "timestamp": 1613478532514,
     "user": {
      "displayName": "navjot bains",
      "photoUrl": "",
      "userId": "15816307421451471669"
     },
     "user_tz": 300
    },
    "id": "y2zQ3_Psy60b",
    "outputId": "77b0680a-9506-484d-833c-43c7be17bb08"
   },
   "outputs": [
    {
     "data": {
      "image/png": "[encoded data removed]",
      "text/plain": [
       "<Figure size 432x288 with 1 Axes>"
      ]
     },
     "metadata": {},
     "output_type": "display_data"
    }
   ],
   "source": [
    "rowSums = df_targets.iloc[:,:].sum(axis=1)\n",
    "x= rowSums.value_counts().iloc[1:]\n",
    "ax = sns.barplot(x.index, x.values)\n",
    "rects = ax.patches\n",
    "labels = x.values\n",
    "for rect, label in zip(rects, labels):\n",
    "    height = rect.get_height()\n",
    "    ax.text(rect.get_x() + rect.get_width()/2, height + 5, label, ha='center', va='bottom')\n",
    "plt.show()\n"
   ]
  },
  {
   "cell_type": "code",
   "execution_count": 11,
   "metadata": {},
   "outputs": [
    {
     "name": "stdout",
     "output_type": "stream",
     "text": [
      "Percentage of comments with multi-labels : \n",
      " \n",
      "1    39.198767\n",
      "3    25.941448\n",
      "2    21.448382\n",
      "4    10.847458\n",
      "5     2.372881\n",
      "6     0.191063\n",
      "dtype: float64 \n"
     ]
    }
   ],
   "source": [
    "print(\"Percentage of comments with multi-labels : \\n \\n{} \".format((x/toxic)*100))"
   ]
  },
  {
   "cell_type": "markdown",
   "metadata": {
    "executionInfo": {
     "elapsed": 322,
     "status": "ok",
     "timestamp": 1613478533538,
     "user": {
      "displayName": "navjot bains",
      "photoUrl": "",
      "userId": "15816307421451471669"
     },
     "user_tz": 300
    },
    "id": "cnwboLLxy60c"
   },
   "source": [
    "It can be seen that in this dataset, most of the comments have 1 to 3 labels attached to them and have significantly less number of comments which are labelled with 5 or 6 categories. \n",
    "<br> These subtleties needs to be taken in account when splitting the train-test data. We need to make sure that our test data is a complete representation of the train data, for that we can try various cross validation techniques. Here stratified K-fold cross validation could be used because we have skewed dataset.\n",
    "\n",
    "<br>We know comments have more than one label attached to it, that’s make it a multi-label classification problem. To tackle this, OneVsRest stratergy could be used."
   ]
  },
  {
   "cell_type": "markdown",
   "metadata": {},
   "source": [
    "### Check for similarities between the categories"
   ]
  },
  {
   "cell_type": "markdown",
   "metadata": {},
   "source": [
    "#### Comparing toxic and severe_toxic categories"
   ]
  },
  {
   "cell_type": "code",
   "execution_count": 12,
   "metadata": {
    "colab": {
     "base_uri": "https://localhost:8080/"
    },
    "executionInfo": {
     "elapsed": 290,
     "status": "ok",
     "timestamp": 1613478536750,
     "user": {
      "displayName": "navjot bains",
      "photoUrl": "",
      "userId": "15816307421451471669"
     },
     "user_tz": 300
    },
    "id": "pRXga91qy60d",
    "outputId": "207818a6-2baf-49d4-d1ea-4ab3412ecdea"
   },
   "outputs": [
    {
     "name": "stdout",
     "output_type": "stream",
     "text": [
      "Total number of comments labeled as toxic are: 15294\n",
      " Total number of severe toxic comments are: 1595\n"
     ]
    }
   ],
   "source": [
    "print('Total number of comments labeled as toxic are: {}\\n Total number of severe toxic comments are: {}'.format(df['toxic'].sum(), df['severe_toxic'].sum())) "
   ]
  },
  {
   "cell_type": "code",
   "execution_count": 13,
   "metadata": {
    "colab": {
     "base_uri": "https://localhost:8080/",
     "height": 272
    },
    "executionInfo": {
     "elapsed": 337,
     "status": "ok",
     "timestamp": 1613478537552,
     "user": {
      "displayName": "navjot bains",
      "photoUrl": "",
      "userId": "15816307421451471669"
     },
     "user_tz": 300
    },
    "id": "-fRX8yTny60f",
    "outputId": "c343dea1-bbcc-435e-f64b-35c46b65d016"
   },
   "outputs": [
    {
     "data": {
      "text/html": [
       "<div>\n",
       "<style scoped>\n",
       "    .dataframe tbody tr th:only-of-type {\n",
       "        vertical-align: middle;\n",
       "    }\n",
       "\n",
       "    .dataframe tbody tr th {\n",
       "        vertical-align: top;\n",
       "    }\n",
       "\n",
       "    .dataframe thead th {\n",
       "        text-align: right;\n",
       "    }\n",
       "</style>\n",
       "<table border=\"1\" class=\"dataframe\">\n",
       "  <thead>\n",
       "    <tr style=\"text-align: right;\">\n",
       "      <th></th>\n",
       "      <th>id</th>\n",
       "      <th>comment_text</th>\n",
       "      <th>toxic</th>\n",
       "      <th>severe_toxic</th>\n",
       "      <th>obscene</th>\n",
       "      <th>threat</th>\n",
       "      <th>insult</th>\n",
       "      <th>identity_hate</th>\n",
       "    </tr>\n",
       "  </thead>\n",
       "  <tbody>\n",
       "    <tr>\n",
       "      <th>6</th>\n",
       "      <td>0002bcb3da6cb337</td>\n",
       "      <td>COCKSUCKER BEFORE YOU PISS AROUND ON MY WORK</td>\n",
       "      <td>1</td>\n",
       "      <td>1</td>\n",
       "      <td>1</td>\n",
       "      <td>0</td>\n",
       "      <td>1</td>\n",
       "      <td>0</td>\n",
       "    </tr>\n",
       "    <tr>\n",
       "      <th>55</th>\n",
       "      <td>0020e7119b96eeeb</td>\n",
       "      <td>Stupid peace of shit stop deleting my stuff as...</td>\n",
       "      <td>1</td>\n",
       "      <td>1</td>\n",
       "      <td>1</td>\n",
       "      <td>0</td>\n",
       "      <td>1</td>\n",
       "      <td>0</td>\n",
       "    </tr>\n",
       "    <tr>\n",
       "      <th>181</th>\n",
       "      <td>006e87872c8b370c</td>\n",
       "      <td>you are a stupid fuck \\n\\nand your mother's cu...</td>\n",
       "      <td>1</td>\n",
       "      <td>1</td>\n",
       "      <td>1</td>\n",
       "      <td>0</td>\n",
       "      <td>1</td>\n",
       "      <td>0</td>\n",
       "    </tr>\n",
       "    <tr>\n",
       "      <th>442</th>\n",
       "      <td>01208d2b76624130</td>\n",
       "      <td>Hi \\n\\nIm a fucking bitch.\\n\\n50.180.208.181</td>\n",
       "      <td>1</td>\n",
       "      <td>1</td>\n",
       "      <td>1</td>\n",
       "      <td>0</td>\n",
       "      <td>1</td>\n",
       "      <td>0</td>\n",
       "    </tr>\n",
       "    <tr>\n",
       "      <th>579</th>\n",
       "      <td>018663f910e0bfe6</td>\n",
       "      <td>What a motherfucking piece of crap those fuckh...</td>\n",
       "      <td>1</td>\n",
       "      <td>1</td>\n",
       "      <td>1</td>\n",
       "      <td>0</td>\n",
       "      <td>1</td>\n",
       "      <td>0</td>\n",
       "    </tr>\n",
       "  </tbody>\n",
       "</table>\n",
       "</div>"
      ],
      "text/plain": [
       "                   id                                       comment_text  \\\n",
       "6    0002bcb3da6cb337       COCKSUCKER BEFORE YOU PISS AROUND ON MY WORK   \n",
       "55   0020e7119b96eeeb  Stupid peace of shit stop deleting my stuff as...   \n",
       "181  006e87872c8b370c  you are a stupid fuck \\n\\nand your mother's cu...   \n",
       "442  01208d2b76624130       Hi \\n\\nIm a fucking bitch.\\n\\n50.180.208.181   \n",
       "579  018663f910e0bfe6  What a motherfucking piece of crap those fuckh...   \n",
       "\n",
       "     toxic  severe_toxic  obscene  threat  insult  identity_hate  \n",
       "6        1             1        1       0       1              0  \n",
       "55       1             1        1       0       1              0  \n",
       "181      1             1        1       0       1              0  \n",
       "442      1             1        1       0       1              0  \n",
       "579      1             1        1       0       1              0  "
      ]
     },
     "execution_count": 13,
     "metadata": {},
     "output_type": "execute_result"
    }
   ],
   "source": [
    "# Dataframe that contains all the comments that are labeled as a severe toxic comments\n",
    "df1 = df[df['severe_toxic']==1]\n",
    "df1.head()"
   ]
  },
  {
   "cell_type": "code",
   "execution_count": 14,
   "metadata": {
    "colab": {
     "base_uri": "https://localhost:8080/"
    },
    "executionInfo": {
     "elapsed": 268,
     "status": "ok",
     "timestamp": 1613478539629,
     "user": {
      "displayName": "navjot bains",
      "photoUrl": "",
      "userId": "15816307421451471669"
     },
     "user_tz": 300
    },
    "id": "lD0J_Y1Sy60g",
    "outputId": "bf103b99-5285-4e6a-b204-a8cc71d01efb"
   },
   "outputs": [
    {
     "data": {
      "text/plain": [
       "1595"
      ]
     },
     "execution_count": 14,
     "metadata": {},
     "output_type": "execute_result"
    }
   ],
   "source": [
    "# Can be seen all the comments which are severe_toxic are labeled as toxic comments \n",
    "(df1.severe_toxic == df1.toxic).sum()"
   ]
  },
  {
   "cell_type": "code",
   "execution_count": 15,
   "metadata": {
    "colab": {
     "base_uri": "https://localhost:8080/",
     "height": 124
    },
    "executionInfo": {
     "elapsed": 526,
     "status": "ok",
     "timestamp": 1613478540886,
     "user": {
      "displayName": "navjot bains",
      "photoUrl": "",
      "userId": "15816307421451471669"
     },
     "user_tz": 300
    },
    "id": "3ZZO_TgXy60h",
    "outputId": "65bdafdb-d728-46e1-a1ea-43d33de8af37"
   },
   "outputs": [
    {
     "data": {
      "text/html": [
       "<style  type=\"text/css\" >\n",
       "    #T_d9e484a8_841f_11eb_8c8e_780cb86f6c96row0_col0 {\n",
       "            background-color:  #ccebc5;\n",
       "        }    #T_d9e484a8_841f_11eb_8c8e_780cb86f6c96row0_col1 {\n",
       "            background-color:  #8dd3c7;\n",
       "        }    #T_d9e484a8_841f_11eb_8c8e_780cb86f6c96row0_col2 {\n",
       "            background-color:  #ccebc5;\n",
       "        }    #T_d9e484a8_841f_11eb_8c8e_780cb86f6c96row1_col0 {\n",
       "            background-color:  #8dd3c7;\n",
       "        }    #T_d9e484a8_841f_11eb_8c8e_780cb86f6c96row1_col1 {\n",
       "            background-color:  #ffed6f;\n",
       "        }    #T_d9e484a8_841f_11eb_8c8e_780cb86f6c96row1_col2 {\n",
       "            background-color:  #8dd3c7;\n",
       "        }    #T_d9e484a8_841f_11eb_8c8e_780cb86f6c96row2_col0 {\n",
       "            background-color:  #ffed6f;\n",
       "        }    #T_d9e484a8_841f_11eb_8c8e_780cb86f6c96row2_col1 {\n",
       "            background-color:  #ffed6f;\n",
       "        }    #T_d9e484a8_841f_11eb_8c8e_780cb86f6c96row2_col2 {\n",
       "            background-color:  #ffed6f;\n",
       "        }</style>  \n",
       "<table id=\"T_d9e484a8_841f_11eb_8c8e_780cb86f6c96\" > \n",
       "<thead>    <tr> \n",
       "        <th class=\"index_name level0\" >severe_toxic</th> \n",
       "        <th class=\"col_heading level0 col0\" >0</th> \n",
       "        <th class=\"col_heading level0 col1\" >1</th> \n",
       "        <th class=\"col_heading level0 col2\" >All</th> \n",
       "    </tr>    <tr> \n",
       "        <th class=\"index_name level0\" >toxic</th> \n",
       "        <th class=\"blank\" ></th> \n",
       "        <th class=\"blank\" ></th> \n",
       "        <th class=\"blank\" ></th> \n",
       "    </tr></thead> \n",
       "<tbody>    <tr> \n",
       "        <th id=\"T_d9e484a8_841f_11eb_8c8e_780cb86f6c96level0_row0\" class=\"row_heading level0 row0\" >0</th> \n",
       "        <td id=\"T_d9e484a8_841f_11eb_8c8e_780cb86f6c96row0_col0\" class=\"data row0 col0\" >144277</td> \n",
       "        <td id=\"T_d9e484a8_841f_11eb_8c8e_780cb86f6c96row0_col1\" class=\"data row0 col1\" >0</td> \n",
       "        <td id=\"T_d9e484a8_841f_11eb_8c8e_780cb86f6c96row0_col2\" class=\"data row0 col2\" >144277</td> \n",
       "    </tr>    <tr> \n",
       "        <th id=\"T_d9e484a8_841f_11eb_8c8e_780cb86f6c96level0_row1\" class=\"row_heading level0 row1\" >1</th> \n",
       "        <td id=\"T_d9e484a8_841f_11eb_8c8e_780cb86f6c96row1_col0\" class=\"data row1 col0\" >13699</td> \n",
       "        <td id=\"T_d9e484a8_841f_11eb_8c8e_780cb86f6c96row1_col1\" class=\"data row1 col1\" >1595</td> \n",
       "        <td id=\"T_d9e484a8_841f_11eb_8c8e_780cb86f6c96row1_col2\" class=\"data row1 col2\" >15294</td> \n",
       "    </tr>    <tr> \n",
       "        <th id=\"T_d9e484a8_841f_11eb_8c8e_780cb86f6c96level0_row2\" class=\"row_heading level0 row2\" >All</th> \n",
       "        <td id=\"T_d9e484a8_841f_11eb_8c8e_780cb86f6c96row2_col0\" class=\"data row2 col0\" >157976</td> \n",
       "        <td id=\"T_d9e484a8_841f_11eb_8c8e_780cb86f6c96row2_col1\" class=\"data row2 col1\" >1595</td> \n",
       "        <td id=\"T_d9e484a8_841f_11eb_8c8e_780cb86f6c96row2_col2\" class=\"data row2 col2\" >159571</td> \n",
       "    </tr></tbody> \n",
       "</table> "
      ],
      "text/plain": [
       "<pandas.io.formats.style.Styler at 0x1f9691063c8>"
      ]
     },
     "execution_count": 15,
     "metadata": {},
     "output_type": "execute_result"
    }
   ],
   "source": [
    "pd.crosstab(df.toxic,df.severe_toxic,margins=True).style.background_gradient(cmap='Set3')"
   ]
  },
  {
   "cell_type": "markdown",
   "metadata": {},
   "source": [
    "<br>All the severe_toxic comments are by default gets toxic label"
   ]
  },
  {
   "cell_type": "markdown",
   "metadata": {},
   "source": [
    "#### Comparing toxic with obscene category"
   ]
  },
  {
   "cell_type": "code",
   "execution_count": 16,
   "metadata": {
    "colab": {
     "base_uri": "https://localhost:8080/",
     "height": 124
    },
    "executionInfo": {
     "elapsed": 395,
     "status": "ok",
     "timestamp": 1613478541465,
     "user": {
      "displayName": "navjot bains",
      "photoUrl": "",
      "userId": "15816307421451471669"
     },
     "user_tz": 300
    },
    "id": "5MUGKRrzy60h",
    "outputId": "1b88c8fb-38cf-4cd1-e3d8-aeef7f90b60f"
   },
   "outputs": [
    {
     "data": {
      "text/html": [
       "<style  type=\"text/css\" >\n",
       "    #T_da09b9ca_841f_11eb_80dd_780cb86f6c96row0_col0 {\n",
       "            background-color:  #ffed6f;\n",
       "        }    #T_da09b9ca_841f_11eb_80dd_780cb86f6c96row0_col1 {\n",
       "            background-color:  #8dd3c7;\n",
       "        }    #T_da09b9ca_841f_11eb_80dd_780cb86f6c96row0_col2 {\n",
       "            background-color:  #ccebc5;\n",
       "        }    #T_da09b9ca_841f_11eb_80dd_780cb86f6c96row1_col0 {\n",
       "            background-color:  #8dd3c7;\n",
       "        }    #T_da09b9ca_841f_11eb_80dd_780cb86f6c96row1_col1 {\n",
       "            background-color:  #ffed6f;\n",
       "        }    #T_da09b9ca_841f_11eb_80dd_780cb86f6c96row1_col2 {\n",
       "            background-color:  #8dd3c7;\n",
       "        }    #T_da09b9ca_841f_11eb_80dd_780cb86f6c96row2_col0 {\n",
       "            background-color:  #ffed6f;\n",
       "        }    #T_da09b9ca_841f_11eb_80dd_780cb86f6c96row2_col1 {\n",
       "            background-color:  #ffed6f;\n",
       "        }    #T_da09b9ca_841f_11eb_80dd_780cb86f6c96row2_col2 {\n",
       "            background-color:  #ffed6f;\n",
       "        }</style>  \n",
       "<table id=\"T_da09b9ca_841f_11eb_80dd_780cb86f6c96\" > \n",
       "<thead>    <tr> \n",
       "        <th class=\"index_name level0\" >obscene</th> \n",
       "        <th class=\"col_heading level0 col0\" >0</th> \n",
       "        <th class=\"col_heading level0 col1\" >1</th> \n",
       "        <th class=\"col_heading level0 col2\" >All</th> \n",
       "    </tr>    <tr> \n",
       "        <th class=\"index_name level0\" >toxic</th> \n",
       "        <th class=\"blank\" ></th> \n",
       "        <th class=\"blank\" ></th> \n",
       "        <th class=\"blank\" ></th> \n",
       "    </tr></thead> \n",
       "<tbody>    <tr> \n",
       "        <th id=\"T_da09b9ca_841f_11eb_80dd_780cb86f6c96level0_row0\" class=\"row_heading level0 row0\" >0</th> \n",
       "        <td id=\"T_da09b9ca_841f_11eb_80dd_780cb86f6c96row0_col0\" class=\"data row0 col0\" >143754</td> \n",
       "        <td id=\"T_da09b9ca_841f_11eb_80dd_780cb86f6c96row0_col1\" class=\"data row0 col1\" >523</td> \n",
       "        <td id=\"T_da09b9ca_841f_11eb_80dd_780cb86f6c96row0_col2\" class=\"data row0 col2\" >144277</td> \n",
       "    </tr>    <tr> \n",
       "        <th id=\"T_da09b9ca_841f_11eb_80dd_780cb86f6c96level0_row1\" class=\"row_heading level0 row1\" >1</th> \n",
       "        <td id=\"T_da09b9ca_841f_11eb_80dd_780cb86f6c96row1_col0\" class=\"data row1 col0\" >7368</td> \n",
       "        <td id=\"T_da09b9ca_841f_11eb_80dd_780cb86f6c96row1_col1\" class=\"data row1 col1\" >7926</td> \n",
       "        <td id=\"T_da09b9ca_841f_11eb_80dd_780cb86f6c96row1_col2\" class=\"data row1 col2\" >15294</td> \n",
       "    </tr>    <tr> \n",
       "        <th id=\"T_da09b9ca_841f_11eb_80dd_780cb86f6c96level0_row2\" class=\"row_heading level0 row2\" >All</th> \n",
       "        <td id=\"T_da09b9ca_841f_11eb_80dd_780cb86f6c96row2_col0\" class=\"data row2 col0\" >151122</td> \n",
       "        <td id=\"T_da09b9ca_841f_11eb_80dd_780cb86f6c96row2_col1\" class=\"data row2 col1\" >8449</td> \n",
       "        <td id=\"T_da09b9ca_841f_11eb_80dd_780cb86f6c96row2_col2\" class=\"data row2 col2\" >159571</td> \n",
       "    </tr></tbody> \n",
       "</table> "
      ],
      "text/plain": [
       "<pandas.io.formats.style.Styler at 0x1f969d14780>"
      ]
     },
     "execution_count": 16,
     "metadata": {},
     "output_type": "execute_result"
    }
   ],
   "source": [
    "pd.crosstab(df.toxic,df.obscene,margins=True).style.background_gradient(cmap='Set3')"
   ]
  },
  {
   "cell_type": "markdown",
   "metadata": {},
   "source": [
    "<br>It can be seen that 8449 comments are labeled as an obscene comments and it’s interesting to notice that out of 8449 obscene comments, 523 comments are not toxic. From the given dataset, I am assuming that the human labeler, labeled the comment as an obscene comment when the comment gives in-general negative vibe but doesn't contain vulgar words\n",
    "<br>\n",
    "<br>\n",
    "If this is the case then - comments which are toxic and obscene as well!!\n",
    "<br> what is the explanation for that?\n"
   ]
  },
  {
   "cell_type": "code",
   "execution_count": 17,
   "metadata": {},
   "outputs": [],
   "source": [
    "# pd.crosstab(df.obscene,df.toxic,margins=True).style.background_gradient(cmap='Set3')"
   ]
  },
  {
   "cell_type": "code",
   "execution_count": 18,
   "metadata": {},
   "outputs": [],
   "source": [
    "# df_obs = df[df['obscene']== 1]"
   ]
  },
  {
   "cell_type": "code",
   "execution_count": 19,
   "metadata": {},
   "outputs": [],
   "source": [
    "# df2 = df[(df['toxic']== 0) & (df['obscene']== 1)]"
   ]
  },
  {
   "cell_type": "code",
   "execution_count": 20,
   "metadata": {},
   "outputs": [],
   "source": [
    "# df.comment_text[2897]"
   ]
  },
  {
   "cell_type": "markdown",
   "metadata": {},
   "source": [
    "<br>\n",
    "Its noted that here comments which are marked obscene but not toxic are those - where commenter is not targeting a particular person but they are using foul words out of their bad habbit.\n"
   ]
  },
  {
   "cell_type": "markdown",
   "metadata": {},
   "source": [
    "#### Comparing obscene with severe_toxic category"
   ]
  },
  {
   "cell_type": "code",
   "execution_count": 21,
   "metadata": {
    "colab": {
     "base_uri": "https://localhost:8080/",
     "height": 124
    },
    "executionInfo": {
     "elapsed": 727,
     "status": "ok",
     "timestamp": 1613478542534,
     "user": {
      "displayName": "navjot bains",
      "photoUrl": "",
      "userId": "15816307421451471669"
     },
     "user_tz": 300
    },
    "id": "GGgLjbnly60j",
    "outputId": "13f85f08-a134-4618-841d-ec45bf09d8aa"
   },
   "outputs": [
    {
     "data": {
      "text/html": [
       "<style  type=\"text/css\" >\n",
       "    #T_da81e276_841f_11eb_9111_780cb86f6c96row0_col0 {\n",
       "            background-color:  #ffed6f;\n",
       "        }    #T_da81e276_841f_11eb_9111_780cb86f6c96row0_col1 {\n",
       "            background-color:  #8dd3c7;\n",
       "        }    #T_da81e276_841f_11eb_9111_780cb86f6c96row0_col2 {\n",
       "            background-color:  #ffed6f;\n",
       "        }    #T_da81e276_841f_11eb_9111_780cb86f6c96row1_col0 {\n",
       "            background-color:  #8dd3c7;\n",
       "        }    #T_da81e276_841f_11eb_9111_780cb86f6c96row1_col1 {\n",
       "            background-color:  #ffed6f;\n",
       "        }    #T_da81e276_841f_11eb_9111_780cb86f6c96row1_col2 {\n",
       "            background-color:  #8dd3c7;\n",
       "        }    #T_da81e276_841f_11eb_9111_780cb86f6c96row2_col0 {\n",
       "            background-color:  #ffed6f;\n",
       "        }    #T_da81e276_841f_11eb_9111_780cb86f6c96row2_col1 {\n",
       "            background-color:  #ffed6f;\n",
       "        }    #T_da81e276_841f_11eb_9111_780cb86f6c96row2_col2 {\n",
       "            background-color:  #ffed6f;\n",
       "        }</style>  \n",
       "<table id=\"T_da81e276_841f_11eb_9111_780cb86f6c96\" > \n",
       "<thead>    <tr> \n",
       "        <th class=\"index_name level0\" >severe_toxic</th> \n",
       "        <th class=\"col_heading level0 col0\" >0</th> \n",
       "        <th class=\"col_heading level0 col1\" >1</th> \n",
       "        <th class=\"col_heading level0 col2\" >All</th> \n",
       "    </tr>    <tr> \n",
       "        <th class=\"index_name level0\" >obscene</th> \n",
       "        <th class=\"blank\" ></th> \n",
       "        <th class=\"blank\" ></th> \n",
       "        <th class=\"blank\" ></th> \n",
       "    </tr></thead> \n",
       "<tbody>    <tr> \n",
       "        <th id=\"T_da81e276_841f_11eb_9111_780cb86f6c96level0_row0\" class=\"row_heading level0 row0\" >0</th> \n",
       "        <td id=\"T_da81e276_841f_11eb_9111_780cb86f6c96row0_col0\" class=\"data row0 col0\" >151044</td> \n",
       "        <td id=\"T_da81e276_841f_11eb_9111_780cb86f6c96row0_col1\" class=\"data row0 col1\" >78</td> \n",
       "        <td id=\"T_da81e276_841f_11eb_9111_780cb86f6c96row0_col2\" class=\"data row0 col2\" >151122</td> \n",
       "    </tr>    <tr> \n",
       "        <th id=\"T_da81e276_841f_11eb_9111_780cb86f6c96level0_row1\" class=\"row_heading level0 row1\" >1</th> \n",
       "        <td id=\"T_da81e276_841f_11eb_9111_780cb86f6c96row1_col0\" class=\"data row1 col0\" >6932</td> \n",
       "        <td id=\"T_da81e276_841f_11eb_9111_780cb86f6c96row1_col1\" class=\"data row1 col1\" >1517</td> \n",
       "        <td id=\"T_da81e276_841f_11eb_9111_780cb86f6c96row1_col2\" class=\"data row1 col2\" >8449</td> \n",
       "    </tr>    <tr> \n",
       "        <th id=\"T_da81e276_841f_11eb_9111_780cb86f6c96level0_row2\" class=\"row_heading level0 row2\" >All</th> \n",
       "        <td id=\"T_da81e276_841f_11eb_9111_780cb86f6c96row2_col0\" class=\"data row2 col0\" >157976</td> \n",
       "        <td id=\"T_da81e276_841f_11eb_9111_780cb86f6c96row2_col1\" class=\"data row2 col1\" >1595</td> \n",
       "        <td id=\"T_da81e276_841f_11eb_9111_780cb86f6c96row2_col2\" class=\"data row2 col2\" >159571</td> \n",
       "    </tr></tbody> \n",
       "</table> "
      ],
      "text/plain": [
       "<pandas.io.formats.style.Styler at 0x1f942c0eeb8>"
      ]
     },
     "execution_count": 21,
     "metadata": {},
     "output_type": "execute_result"
    }
   ],
   "source": [
    "pd.crosstab(df.obscene,df.severe_toxic,margins=True).style.background_gradient(cmap='Set3')"
   ]
  },
  {
   "cell_type": "markdown",
   "metadata": {},
   "source": [
    "#### Comparing toxic with threat category"
   ]
  },
  {
   "cell_type": "code",
   "execution_count": 22,
   "metadata": {},
   "outputs": [
    {
     "data": {
      "text/html": [
       "<style  type=\"text/css\" >\n",
       "    #T_daa8ecb6_841f_11eb_a47e_780cb86f6c96row0_col0 {\n",
       "            background-color:  #ccebc5;\n",
       "        }    #T_daa8ecb6_841f_11eb_a47e_780cb86f6c96row0_col1 {\n",
       "            background-color:  #8dd3c7;\n",
       "        }    #T_daa8ecb6_841f_11eb_a47e_780cb86f6c96row0_col2 {\n",
       "            background-color:  #ccebc5;\n",
       "        }    #T_daa8ecb6_841f_11eb_a47e_780cb86f6c96row1_col0 {\n",
       "            background-color:  #8dd3c7;\n",
       "        }    #T_daa8ecb6_841f_11eb_a47e_780cb86f6c96row1_col1 {\n",
       "            background-color:  #ffed6f;\n",
       "        }    #T_daa8ecb6_841f_11eb_a47e_780cb86f6c96row1_col2 {\n",
       "            background-color:  #8dd3c7;\n",
       "        }    #T_daa8ecb6_841f_11eb_a47e_780cb86f6c96row2_col0 {\n",
       "            background-color:  #ffed6f;\n",
       "        }    #T_daa8ecb6_841f_11eb_a47e_780cb86f6c96row2_col1 {\n",
       "            background-color:  #ffed6f;\n",
       "        }    #T_daa8ecb6_841f_11eb_a47e_780cb86f6c96row2_col2 {\n",
       "            background-color:  #ffed6f;\n",
       "        }</style>  \n",
       "<table id=\"T_daa8ecb6_841f_11eb_a47e_780cb86f6c96\" > \n",
       "<thead>    <tr> \n",
       "        <th class=\"index_name level0\" >threat</th> \n",
       "        <th class=\"col_heading level0 col0\" >0</th> \n",
       "        <th class=\"col_heading level0 col1\" >1</th> \n",
       "        <th class=\"col_heading level0 col2\" >All</th> \n",
       "    </tr>    <tr> \n",
       "        <th class=\"index_name level0\" >toxic</th> \n",
       "        <th class=\"blank\" ></th> \n",
       "        <th class=\"blank\" ></th> \n",
       "        <th class=\"blank\" ></th> \n",
       "    </tr></thead> \n",
       "<tbody>    <tr> \n",
       "        <th id=\"T_daa8ecb6_841f_11eb_a47e_780cb86f6c96level0_row0\" class=\"row_heading level0 row0\" >0</th> \n",
       "        <td id=\"T_daa8ecb6_841f_11eb_a47e_780cb86f6c96row0_col0\" class=\"data row0 col0\" >144248</td> \n",
       "        <td id=\"T_daa8ecb6_841f_11eb_a47e_780cb86f6c96row0_col1\" class=\"data row0 col1\" >29</td> \n",
       "        <td id=\"T_daa8ecb6_841f_11eb_a47e_780cb86f6c96row0_col2\" class=\"data row0 col2\" >144277</td> \n",
       "    </tr>    <tr> \n",
       "        <th id=\"T_daa8ecb6_841f_11eb_a47e_780cb86f6c96level0_row1\" class=\"row_heading level0 row1\" >1</th> \n",
       "        <td id=\"T_daa8ecb6_841f_11eb_a47e_780cb86f6c96row1_col0\" class=\"data row1 col0\" >14845</td> \n",
       "        <td id=\"T_daa8ecb6_841f_11eb_a47e_780cb86f6c96row1_col1\" class=\"data row1 col1\" >449</td> \n",
       "        <td id=\"T_daa8ecb6_841f_11eb_a47e_780cb86f6c96row1_col2\" class=\"data row1 col2\" >15294</td> \n",
       "    </tr>    <tr> \n",
       "        <th id=\"T_daa8ecb6_841f_11eb_a47e_780cb86f6c96level0_row2\" class=\"row_heading level0 row2\" >All</th> \n",
       "        <td id=\"T_daa8ecb6_841f_11eb_a47e_780cb86f6c96row2_col0\" class=\"data row2 col0\" >159093</td> \n",
       "        <td id=\"T_daa8ecb6_841f_11eb_a47e_780cb86f6c96row2_col1\" class=\"data row2 col1\" >478</td> \n",
       "        <td id=\"T_daa8ecb6_841f_11eb_a47e_780cb86f6c96row2_col2\" class=\"data row2 col2\" >159571</td> \n",
       "    </tr></tbody> \n",
       "</table> "
      ],
      "text/plain": [
       "<pandas.io.formats.style.Styler at 0x1f969dc87f0>"
      ]
     },
     "execution_count": 22,
     "metadata": {},
     "output_type": "execute_result"
    }
   ],
   "source": [
    "pd.crosstab(df.toxic,df.threat,margins=True).style.background_gradient(cmap='Set3')"
   ]
  },
  {
   "cell_type": "markdown",
   "metadata": {},
   "source": [
    "<br> Here total 478 comments are labeled as a threat, out of which 449 are toxic and 29 are non-toxic.\n",
    "<br> These 29 comments have these common words \"kill\", \"die\", \"warning\" but no vulgar or insulting words are used. This could be the reason that these 29 comments qualify for threat label but not for toxic.\n"
   ]
  },
  {
   "cell_type": "markdown",
   "metadata": {},
   "source": [
    "#### Comparing toxic with insult category"
   ]
  },
  {
   "cell_type": "code",
   "execution_count": 23,
   "metadata": {},
   "outputs": [
    {
     "data": {
      "text/html": [
       "<style  type=\"text/css\" >\n",
       "    #T_dad6d3b8_841f_11eb_8331_780cb86f6c96row0_col0 {\n",
       "            background-color:  #ffed6f;\n",
       "        }    #T_dad6d3b8_841f_11eb_8331_780cb86f6c96row0_col1 {\n",
       "            background-color:  #8dd3c7;\n",
       "        }    #T_dad6d3b8_841f_11eb_8331_780cb86f6c96row0_col2 {\n",
       "            background-color:  #ccebc5;\n",
       "        }    #T_dad6d3b8_841f_11eb_8331_780cb86f6c96row1_col0 {\n",
       "            background-color:  #8dd3c7;\n",
       "        }    #T_dad6d3b8_841f_11eb_8331_780cb86f6c96row1_col1 {\n",
       "            background-color:  #ffed6f;\n",
       "        }    #T_dad6d3b8_841f_11eb_8331_780cb86f6c96row1_col2 {\n",
       "            background-color:  #8dd3c7;\n",
       "        }    #T_dad6d3b8_841f_11eb_8331_780cb86f6c96row2_col0 {\n",
       "            background-color:  #ffed6f;\n",
       "        }    #T_dad6d3b8_841f_11eb_8331_780cb86f6c96row2_col1 {\n",
       "            background-color:  #ffed6f;\n",
       "        }    #T_dad6d3b8_841f_11eb_8331_780cb86f6c96row2_col2 {\n",
       "            background-color:  #ffed6f;\n",
       "        }</style>  \n",
       "<table id=\"T_dad6d3b8_841f_11eb_8331_780cb86f6c96\" > \n",
       "<thead>    <tr> \n",
       "        <th class=\"index_name level0\" >insult</th> \n",
       "        <th class=\"col_heading level0 col0\" >0</th> \n",
       "        <th class=\"col_heading level0 col1\" >1</th> \n",
       "        <th class=\"col_heading level0 col2\" >All</th> \n",
       "    </tr>    <tr> \n",
       "        <th class=\"index_name level0\" >toxic</th> \n",
       "        <th class=\"blank\" ></th> \n",
       "        <th class=\"blank\" ></th> \n",
       "        <th class=\"blank\" ></th> \n",
       "    </tr></thead> \n",
       "<tbody>    <tr> \n",
       "        <th id=\"T_dad6d3b8_841f_11eb_8331_780cb86f6c96level0_row0\" class=\"row_heading level0 row0\" >0</th> \n",
       "        <td id=\"T_dad6d3b8_841f_11eb_8331_780cb86f6c96row0_col0\" class=\"data row0 col0\" >143744</td> \n",
       "        <td id=\"T_dad6d3b8_841f_11eb_8331_780cb86f6c96row0_col1\" class=\"data row0 col1\" >533</td> \n",
       "        <td id=\"T_dad6d3b8_841f_11eb_8331_780cb86f6c96row0_col2\" class=\"data row0 col2\" >144277</td> \n",
       "    </tr>    <tr> \n",
       "        <th id=\"T_dad6d3b8_841f_11eb_8331_780cb86f6c96level0_row1\" class=\"row_heading level0 row1\" >1</th> \n",
       "        <td id=\"T_dad6d3b8_841f_11eb_8331_780cb86f6c96row1_col0\" class=\"data row1 col0\" >7950</td> \n",
       "        <td id=\"T_dad6d3b8_841f_11eb_8331_780cb86f6c96row1_col1\" class=\"data row1 col1\" >7344</td> \n",
       "        <td id=\"T_dad6d3b8_841f_11eb_8331_780cb86f6c96row1_col2\" class=\"data row1 col2\" >15294</td> \n",
       "    </tr>    <tr> \n",
       "        <th id=\"T_dad6d3b8_841f_11eb_8331_780cb86f6c96level0_row2\" class=\"row_heading level0 row2\" >All</th> \n",
       "        <td id=\"T_dad6d3b8_841f_11eb_8331_780cb86f6c96row2_col0\" class=\"data row2 col0\" >151694</td> \n",
       "        <td id=\"T_dad6d3b8_841f_11eb_8331_780cb86f6c96row2_col1\" class=\"data row2 col1\" >7877</td> \n",
       "        <td id=\"T_dad6d3b8_841f_11eb_8331_780cb86f6c96row2_col2\" class=\"data row2 col2\" >159571</td> \n",
       "    </tr></tbody> \n",
       "</table> "
      ],
      "text/plain": [
       "<pandas.io.formats.style.Styler at 0x1f969dc8668>"
      ]
     },
     "execution_count": 23,
     "metadata": {},
     "output_type": "execute_result"
    }
   ],
   "source": [
    "pd.crosstab(df.toxic,df.insult,margins=True).style.background_gradient(cmap='Set3')"
   ]
  },
  {
   "cell_type": "markdown",
   "metadata": {},
   "source": [
    "#### Comparing toxic with identity_hate category"
   ]
  },
  {
   "cell_type": "code",
   "execution_count": 24,
   "metadata": {},
   "outputs": [
    {
     "data": {
      "text/html": [
       "<style  type=\"text/css\" >\n",
       "    #T_dafae586_841f_11eb_a2ee_780cb86f6c96row0_col0 {\n",
       "            background-color:  #ccebc5;\n",
       "        }    #T_dafae586_841f_11eb_a2ee_780cb86f6c96row0_col1 {\n",
       "            background-color:  #8dd3c7;\n",
       "        }    #T_dafae586_841f_11eb_a2ee_780cb86f6c96row0_col2 {\n",
       "            background-color:  #ccebc5;\n",
       "        }    #T_dafae586_841f_11eb_a2ee_780cb86f6c96row1_col0 {\n",
       "            background-color:  #8dd3c7;\n",
       "        }    #T_dafae586_841f_11eb_a2ee_780cb86f6c96row1_col1 {\n",
       "            background-color:  #ffed6f;\n",
       "        }    #T_dafae586_841f_11eb_a2ee_780cb86f6c96row1_col2 {\n",
       "            background-color:  #8dd3c7;\n",
       "        }    #T_dafae586_841f_11eb_a2ee_780cb86f6c96row2_col0 {\n",
       "            background-color:  #ffed6f;\n",
       "        }    #T_dafae586_841f_11eb_a2ee_780cb86f6c96row2_col1 {\n",
       "            background-color:  #ffed6f;\n",
       "        }    #T_dafae586_841f_11eb_a2ee_780cb86f6c96row2_col2 {\n",
       "            background-color:  #ffed6f;\n",
       "        }</style>  \n",
       "<table id=\"T_dafae586_841f_11eb_a2ee_780cb86f6c96\" > \n",
       "<thead>    <tr> \n",
       "        <th class=\"index_name level0\" >identity_hate</th> \n",
       "        <th class=\"col_heading level0 col0\" >0</th> \n",
       "        <th class=\"col_heading level0 col1\" >1</th> \n",
       "        <th class=\"col_heading level0 col2\" >All</th> \n",
       "    </tr>    <tr> \n",
       "        <th class=\"index_name level0\" >toxic</th> \n",
       "        <th class=\"blank\" ></th> \n",
       "        <th class=\"blank\" ></th> \n",
       "        <th class=\"blank\" ></th> \n",
       "    </tr></thead> \n",
       "<tbody>    <tr> \n",
       "        <th id=\"T_dafae586_841f_11eb_a2ee_780cb86f6c96level0_row0\" class=\"row_heading level0 row0\" >0</th> \n",
       "        <td id=\"T_dafae586_841f_11eb_a2ee_780cb86f6c96row0_col0\" class=\"data row0 col0\" >144174</td> \n",
       "        <td id=\"T_dafae586_841f_11eb_a2ee_780cb86f6c96row0_col1\" class=\"data row0 col1\" >103</td> \n",
       "        <td id=\"T_dafae586_841f_11eb_a2ee_780cb86f6c96row0_col2\" class=\"data row0 col2\" >144277</td> \n",
       "    </tr>    <tr> \n",
       "        <th id=\"T_dafae586_841f_11eb_a2ee_780cb86f6c96level0_row1\" class=\"row_heading level0 row1\" >1</th> \n",
       "        <td id=\"T_dafae586_841f_11eb_a2ee_780cb86f6c96row1_col0\" class=\"data row1 col0\" >13992</td> \n",
       "        <td id=\"T_dafae586_841f_11eb_a2ee_780cb86f6c96row1_col1\" class=\"data row1 col1\" >1302</td> \n",
       "        <td id=\"T_dafae586_841f_11eb_a2ee_780cb86f6c96row1_col2\" class=\"data row1 col2\" >15294</td> \n",
       "    </tr>    <tr> \n",
       "        <th id=\"T_dafae586_841f_11eb_a2ee_780cb86f6c96level0_row2\" class=\"row_heading level0 row2\" >All</th> \n",
       "        <td id=\"T_dafae586_841f_11eb_a2ee_780cb86f6c96row2_col0\" class=\"data row2 col0\" >158166</td> \n",
       "        <td id=\"T_dafae586_841f_11eb_a2ee_780cb86f6c96row2_col1\" class=\"data row2 col1\" >1405</td> \n",
       "        <td id=\"T_dafae586_841f_11eb_a2ee_780cb86f6c96row2_col2\" class=\"data row2 col2\" >159571</td> \n",
       "    </tr></tbody> \n",
       "</table> "
      ],
      "text/plain": [
       "<pandas.io.formats.style.Styler at 0x1f969dd3780>"
      ]
     },
     "execution_count": 24,
     "metadata": {},
     "output_type": "execute_result"
    }
   ],
   "source": [
    "pd.crosstab(df.toxic,df.identity_hate,margins=True).style.background_gradient(cmap='Set3')"
   ]
  },
  {
   "cell_type": "markdown",
   "metadata": {},
   "source": [
    "<br> Here out of 1405 identity hate comments, 103 comments are not toxic. \n",
    "<br> After observing this category of comments, I could assume that - Identity hate comments targets race, color, religion, community etc. So for a comment to be qualified under this category doesn't have to use vulgar or foul words.\n"
   ]
  },
  {
   "cell_type": "code",
   "execution_count": null,
   "metadata": {
    "colab": {
     "base_uri": "https://localhost:8080/"
    },
    "executionInfo": {
     "elapsed": 375,
     "status": "ok",
     "timestamp": 1613478546459,
     "user": {
      "displayName": "navjot bains",
      "photoUrl": "",
      "userId": "15816307421451471669"
     },
     "user_tz": 300
    },
    "id": "JPMR86ySy60l",
    "outputId": "49a18e76-113e-41d5-933c-7bfe9c202025"
   },
   "outputs": [],
   "source": []
  }
 ],
 "metadata": {
  "colab": {
   "name": "EDA.ipynb",
   "provenance": [],
   "toc_visible": true
  },
  "kernelspec": {
   "display_name": "Python 3",
   "language": "python",
   "name": "python3"
  },
  "language_info": {
   "codemirror_mode": {
    "name": "ipython",
    "version": 3
   },
   "file_extension": ".py",
   "mimetype": "text/x-python",
   "name": "python",
   "nbconvert_exporter": "python",
   "pygments_lexer": "ipython3",
   "version": "3.6.5"
  }
 },
 "nbformat": 4,
 "nbformat_minor": 2
}
